{
 "cells": [
  {
   "cell_type": "markdown",
   "metadata": {},
   "source": [
    "# TODOs\n",
    "\n",
    "1. Import data\n",
    "2. Run sweetviz or pandas profiling\n",
    "3. Evaluate data quality\n",
    "    a. Missing values\n",
    "    b. Duplicate records\n",
    "    c. Low variance\n",
    "    d. Outliers\n",
    "4. Build pipeline to preprocess data\n",
    "    a. Prepocess data\n",
    "    b. Build additional features\n",
    "    c. Normalize/transform\n",
    "5. Output preprocessed file to `data` folder and pipeline object somewhere\n",
    "6. Answer two questions:\n",
    "    a. Which teams and players had the most rushing yards?\n",
    "    b. Which offensive personal and defensive personal led to the most rushing yards?\n"
   ]
  }
 ],
 "metadata": {
  "kernelspec": {
   "display_name": "Python 3",
   "language": "python",
   "name": "python3"
  },
  "language_info": {
   "codemirror_mode": {
    "name": "ipython",
    "version": 3
   },
   "file_extension": ".py",
   "mimetype": "text/x-python",
   "name": "python",
   "nbconvert_exporter": "python",
   "pygments_lexer": "ipython3",
   "version": "3.7.6"
  }
 },
 "nbformat": 4,
 "nbformat_minor": 4
}
