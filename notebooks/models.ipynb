{
 "cells": [
  {
   "cell_type": "markdown",
   "metadata": {},
   "source": [
    "# TODOs\n",
    "1. Import preprocessed data\n",
    "2. Split data into training and testing\n",
    "3. CFV\n",
    "4. Build decision tree model with default hyperparameters\n",
    "5. Build regression model with default hyperparameters\n",
    "6. Evaluate performance\n",
    "7. Optimize models and re-evaluate performance  \n",
    "    a. STRETCH: Using Bayesian Optimization\n",
    "8. Extract most import features  \n",
    "    a. STRETCH: Implement SHAP\n",
    "9. Output model objects to the `objects` directory\n",
    "10. Summarize findings"
   ]
  }
 ],
 "metadata": {
  "kernelspec": {
   "display_name": "Python 3",
   "language": "python",
   "name": "python3"
  },
  "language_info": {
   "codemirror_mode": {
    "name": "ipython",
    "version": 3
   },
   "file_extension": ".py",
   "mimetype": "text/x-python",
   "name": "python",
   "nbconvert_exporter": "python",
   "pygments_lexer": "ipython3",
   "version": "3.7.6"
  }
 },
 "nbformat": 4,
 "nbformat_minor": 4
}
